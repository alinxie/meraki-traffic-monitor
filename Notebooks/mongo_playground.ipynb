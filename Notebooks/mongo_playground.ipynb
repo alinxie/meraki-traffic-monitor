{
 "cells": [
  {
   "cell_type": "markdown",
   "metadata": {},
   "source": [
    "# Mongo DB Scripts"
   ]
  },
  {
   "cell_type": "markdown",
   "metadata": {},
   "source": [
    "Various explorations of MongoDB python client to create business logic for Stay Presnet application"
   ]
  },
  {
   "cell_type": "markdown",
   "metadata": {},
   "source": [
    "## Pandas Groupby of application"
   ]
  },
  {
   "cell_type": "code",
   "execution_count": 1,
   "metadata": {
    "collapsed": true
   },
   "outputs": [],
   "source": [
    "import pandas as pd\n",
    "import numpy as np\n",
    "from pymongo import MongoClient"
   ]
  },
  {
   "cell_type": "code",
   "execution_count": 22,
   "metadata": {
    "collapsed": false
   },
   "outputs": [],
   "source": [
    "d = pd.read_csv('hi.csv')"
   ]
  },
  {
   "cell_type": "code",
   "execution_count": 23,
   "metadata": {
    "collapsed": false
   },
   "outputs": [],
   "source": [
    "d.fillna(0, inplace = True)"
   ]
  },
  {
   "cell_type": "code",
   "execution_count": 30,
   "metadata": {
    "collapsed": false
   },
   "outputs": [
    {
     "data": {
      "text/html": [
       "<div>\n",
       "<table border=\"1\" class=\"dataframe\">\n",
       "  <thead>\n",
       "    <tr style=\"text-align: right;\">\n",
       "      <th></th>\n",
       "      <th>application</th>\n",
       "      <th>numClients</th>\n",
       "    </tr>\n",
       "  </thead>\n",
       "  <tbody>\n",
       "    <tr>\n",
       "      <th>0</th>\n",
       "      <td>Antivirus updates</td>\n",
       "      <td>10</td>\n",
       "    </tr>\n",
       "    <tr>\n",
       "      <th>1</th>\n",
       "      <td>Blogger</td>\n",
       "      <td>9</td>\n",
       "    </tr>\n",
       "    <tr>\n",
       "      <th>2</th>\n",
       "      <td>CDNs</td>\n",
       "      <td>117</td>\n",
       "    </tr>\n",
       "    <tr>\n",
       "      <th>3</th>\n",
       "      <td>Dropbox</td>\n",
       "      <td>9</td>\n",
       "    </tr>\n",
       "    <tr>\n",
       "      <th>4</th>\n",
       "      <td>ESPN</td>\n",
       "      <td>1</td>\n",
       "    </tr>\n",
       "    <tr>\n",
       "      <th>5</th>\n",
       "      <td>Encrypted TCP (SSL)</td>\n",
       "      <td>40</td>\n",
       "    </tr>\n",
       "    <tr>\n",
       "      <th>6</th>\n",
       "      <td>Facebook</td>\n",
       "      <td>372</td>\n",
       "    </tr>\n",
       "    <tr>\n",
       "      <th>7</th>\n",
       "      <td>Gmail</td>\n",
       "      <td>195</td>\n",
       "    </tr>\n",
       "    <tr>\n",
       "      <th>8</th>\n",
       "      <td>Google</td>\n",
       "      <td>216</td>\n",
       "    </tr>\n",
       "    <tr>\n",
       "      <th>9</th>\n",
       "      <td>Google Drive</td>\n",
       "      <td>192</td>\n",
       "    </tr>\n",
       "    <tr>\n",
       "      <th>10</th>\n",
       "      <td>Google HTTPS</td>\n",
       "      <td>508</td>\n",
       "    </tr>\n",
       "    <tr>\n",
       "      <th>11</th>\n",
       "      <td>Google Maps</td>\n",
       "      <td>9</td>\n",
       "    </tr>\n",
       "    <tr>\n",
       "      <th>12</th>\n",
       "      <td>Google+</td>\n",
       "      <td>44</td>\n",
       "    </tr>\n",
       "    <tr>\n",
       "      <th>13</th>\n",
       "      <td>Host-based email (POP3/IMAP/SMTP)</td>\n",
       "      <td>49</td>\n",
       "    </tr>\n",
       "    <tr>\n",
       "      <th>14</th>\n",
       "      <td>ICMP</td>\n",
       "      <td>38</td>\n",
       "    </tr>\n",
       "    <tr>\n",
       "      <th>15</th>\n",
       "      <td>Instagram</td>\n",
       "      <td>16</td>\n",
       "    </tr>\n",
       "    <tr>\n",
       "      <th>16</th>\n",
       "      <td>Live.com</td>\n",
       "      <td>27</td>\n",
       "    </tr>\n",
       "    <tr>\n",
       "      <th>17</th>\n",
       "      <td>MSN</td>\n",
       "      <td>47</td>\n",
       "    </tr>\n",
       "    <tr>\n",
       "      <th>18</th>\n",
       "      <td>Meraki HTTPS</td>\n",
       "      <td>42</td>\n",
       "    </tr>\n",
       "    <tr>\n",
       "      <th>19</th>\n",
       "      <td>Microsoft OneDrive</td>\n",
       "      <td>12</td>\n",
       "    </tr>\n",
       "    <tr>\n",
       "      <th>20</th>\n",
       "      <td>Miscellaneous secure web</td>\n",
       "      <td>5463</td>\n",
       "    </tr>\n",
       "    <tr>\n",
       "      <th>21</th>\n",
       "      <td>Miscellaneous web</td>\n",
       "      <td>515</td>\n",
       "    </tr>\n",
       "    <tr>\n",
       "      <th>22</th>\n",
       "      <td>Non-web TCP</td>\n",
       "      <td>42</td>\n",
       "    </tr>\n",
       "    <tr>\n",
       "      <th>23</th>\n",
       "      <td>SSH</td>\n",
       "      <td>8</td>\n",
       "    </tr>\n",
       "    <tr>\n",
       "      <th>24</th>\n",
       "      <td>Skype</td>\n",
       "      <td>7</td>\n",
       "    </tr>\n",
       "    <tr>\n",
       "      <th>25</th>\n",
       "      <td>Snapchat</td>\n",
       "      <td>103</td>\n",
       "    </tr>\n",
       "    <tr>\n",
       "      <th>26</th>\n",
       "      <td>Software updates</td>\n",
       "      <td>65</td>\n",
       "    </tr>\n",
       "    <tr>\n",
       "      <th>27</th>\n",
       "      <td>Spotify</td>\n",
       "      <td>104</td>\n",
       "    </tr>\n",
       "    <tr>\n",
       "      <th>28</th>\n",
       "      <td>Tumblr</td>\n",
       "      <td>18</td>\n",
       "    </tr>\n",
       "    <tr>\n",
       "      <th>29</th>\n",
       "      <td>Twitter</td>\n",
       "      <td>83</td>\n",
       "    </tr>\n",
       "    <tr>\n",
       "      <th>30</th>\n",
       "      <td>UDP</td>\n",
       "      <td>407</td>\n",
       "    </tr>\n",
       "    <tr>\n",
       "      <th>31</th>\n",
       "      <td>Vimeo</td>\n",
       "      <td>8</td>\n",
       "    </tr>\n",
       "    <tr>\n",
       "      <th>32</th>\n",
       "      <td>WebEx</td>\n",
       "      <td>34</td>\n",
       "    </tr>\n",
       "    <tr>\n",
       "      <th>33</th>\n",
       "      <td>Wikipedia</td>\n",
       "      <td>3</td>\n",
       "    </tr>\n",
       "    <tr>\n",
       "      <th>34</th>\n",
       "      <td>Windows Live Hotmail and Outlook</td>\n",
       "      <td>52</td>\n",
       "    </tr>\n",
       "    <tr>\n",
       "      <th>35</th>\n",
       "      <td>Windows Office365</td>\n",
       "      <td>9</td>\n",
       "    </tr>\n",
       "    <tr>\n",
       "      <th>36</th>\n",
       "      <td>WordPress</td>\n",
       "      <td>2</td>\n",
       "    </tr>\n",
       "    <tr>\n",
       "      <th>37</th>\n",
       "      <td>Xbox LIVE</td>\n",
       "      <td>5</td>\n",
       "    </tr>\n",
       "    <tr>\n",
       "      <th>38</th>\n",
       "      <td>Xfinity TV</td>\n",
       "      <td>1</td>\n",
       "    </tr>\n",
       "    <tr>\n",
       "      <th>39</th>\n",
       "      <td>Yahoo</td>\n",
       "      <td>11</td>\n",
       "    </tr>\n",
       "    <tr>\n",
       "      <th>40</th>\n",
       "      <td>Yahoo Mail</td>\n",
       "      <td>1</td>\n",
       "    </tr>\n",
       "    <tr>\n",
       "      <th>41</th>\n",
       "      <td>Yelp</td>\n",
       "      <td>27</td>\n",
       "    </tr>\n",
       "    <tr>\n",
       "      <th>42</th>\n",
       "      <td>YouTube</td>\n",
       "      <td>80</td>\n",
       "    </tr>\n",
       "    <tr>\n",
       "      <th>43</th>\n",
       "      <td>amazon.com</td>\n",
       "      <td>45</td>\n",
       "    </tr>\n",
       "    <tr>\n",
       "      <th>44</th>\n",
       "      <td>apple.com</td>\n",
       "      <td>283</td>\n",
       "    </tr>\n",
       "    <tr>\n",
       "      <th>45</th>\n",
       "      <td>iCloud</td>\n",
       "      <td>204</td>\n",
       "    </tr>\n",
       "    <tr>\n",
       "      <th>46</th>\n",
       "      <td>iTunes</td>\n",
       "      <td>120</td>\n",
       "    </tr>\n",
       "    <tr>\n",
       "      <th>47</th>\n",
       "      <td>imgur.com</td>\n",
       "      <td>66</td>\n",
       "    </tr>\n",
       "    <tr>\n",
       "      <th>48</th>\n",
       "      <td>microsoft.com</td>\n",
       "      <td>128</td>\n",
       "    </tr>\n",
       "  </tbody>\n",
       "</table>\n",
       "</div>"
      ],
      "text/plain": [
       "                          application  numClients\n",
       "0                   Antivirus updates          10\n",
       "1                             Blogger           9\n",
       "2                                CDNs         117\n",
       "3                             Dropbox           9\n",
       "4                                ESPN           1\n",
       "5                 Encrypted TCP (SSL)          40\n",
       "6                            Facebook         372\n",
       "7                               Gmail         195\n",
       "8                              Google         216\n",
       "9                        Google Drive         192\n",
       "10                       Google HTTPS         508\n",
       "11                        Google Maps           9\n",
       "12                            Google+          44\n",
       "13  Host-based email (POP3/IMAP/SMTP)          49\n",
       "14                               ICMP          38\n",
       "15                          Instagram          16\n",
       "16                           Live.com          27\n",
       "17                                MSN          47\n",
       "18                       Meraki HTTPS          42\n",
       "19                 Microsoft OneDrive          12\n",
       "20           Miscellaneous secure web        5463\n",
       "21                  Miscellaneous web         515\n",
       "22                        Non-web TCP          42\n",
       "23                                SSH           8\n",
       "24                              Skype           7\n",
       "25                           Snapchat         103\n",
       "26                   Software updates          65\n",
       "27                            Spotify         104\n",
       "28                             Tumblr          18\n",
       "29                            Twitter          83\n",
       "30                                UDP         407\n",
       "31                              Vimeo           8\n",
       "32                              WebEx          34\n",
       "33                          Wikipedia           3\n",
       "34   Windows Live Hotmail and Outlook          52\n",
       "35                  Windows Office365           9\n",
       "36                          WordPress           2\n",
       "37                          Xbox LIVE           5\n",
       "38                         Xfinity TV           1\n",
       "39                              Yahoo          11\n",
       "40                         Yahoo Mail           1\n",
       "41                               Yelp          27\n",
       "42                            YouTube          80\n",
       "43                         amazon.com          45\n",
       "44                          apple.com         283\n",
       "45                             iCloud         204\n",
       "46                             iTunes         120\n",
       "47                          imgur.com          66\n",
       "48                      microsoft.com         128"
      ]
     },
     "execution_count": 30,
     "metadata": {},
     "output_type": "execute_result"
    }
   ],
   "source": [
    "d.groupby('application')['numClients'].sum().reset_index()"
   ]
  },
  {
   "cell_type": "markdown",
   "metadata": {},
   "source": [
    "## Creation of Student Identities mapped to MAC Addresses"
   ]
  },
  {
   "cell_type": "markdown",
   "metadata": {
    "collapsed": false
   },
   "source": [
    "`loc` was a dataframe of a sample of location data we recieved from a Meraki device."
   ]
  },
  {
   "cell_type": "code",
   "execution_count": null,
   "metadata": {
    "collapsed": false
   },
   "outputs": [],
   "source": [
    "macIDs = loc['clientMac'].unique()"
   ]
  },
  {
   "cell_type": "code",
   "execution_count": 80,
   "metadata": {
    "collapsed": false
   },
   "outputs": [],
   "source": [
    "# Connection to client\n",
    "db = MongoClient('mongodb://<username>:<password>@ds044689.mlab.com:44689/meraki')"
   ]
  },
  {
   "cell_type": "code",
   "execution_count": 81,
   "metadata": {
    "collapsed": true
   },
   "outputs": [],
   "source": [
    "# Students Mongodb collection\n",
    "students = db.meraki.students"
   ]
  },
  {
   "cell_type": "code",
   "execution_count": 83,
   "metadata": {
    "collapsed": false
   },
   "outputs": [],
   "source": [
    "# Going through indices and setting student identities.\n",
    "for i in range(len(macIDs)):\n",
    "    students.insert_one({\"SID\": i, 'name':'Student' + str(i), 'clientMac': macIDs[i]})"
   ]
  },
  {
   "cell_type": "code",
   "execution_count": 139,
   "metadata": {
    "collapsed": true
   },
   "outputs": [],
   "source": [
    "mac_address = 'f4:0f:24:36:15:3d'"
   ]
  },
  {
   "cell_type": "code",
   "execution_count": 111,
   "metadata": {
    "collapsed": false
   },
   "outputs": [
    {
     "data": {
      "text/plain": [
       "{'SID': 9,\n",
       " '_id': ObjectId('59d9f70d5e948f435621f800'),\n",
       " 'clientMac': 'a0:99:9b:0e:95:4c',\n",
       " 'name': 'Student9'}"
      ]
     },
     "execution_count": 111,
     "metadata": {},
     "output_type": "execute_result"
    }
   ],
   "source": [
    "students.find({'clientMac': mac_address})[0]"
   ]
  },
  {
   "cell_type": "code",
   "execution_count": 90,
   "metadata": {
    "collapsed": true
   },
   "outputs": [],
   "source": [
    "checkins = db.meraki.locations"
   ]
  },
  {
   "cell_type": "markdown",
   "metadata": {},
   "source": [
    "## Data Parsing"
   ]
  },
  {
   "cell_type": "markdown",
   "metadata": {},
   "source": [
    "Some date parsing to work on student attendance logic."
   ]
  },
  {
   "cell_type": "code",
   "execution_count": 93,
   "metadata": {
    "collapsed": true
   },
   "outputs": [],
   "source": [
    "from datetime import datetime\n",
    "parse_date = lambda x: datetime.strptime(x,'%Y-%m-%dT%H:%M:%SZ')"
   ]
  },
  {
   "cell_type": "code",
   "execution_count": 140,
   "metadata": {
    "collapsed": false
   },
   "outputs": [],
   "source": [
    "times = [parse_date(x['seenTime']) for x in list(checkins.find({'clientMac': mac_address}))]"
   ]
  },
  {
   "cell_type": "code",
   "execution_count": 97,
   "metadata": {
    "collapsed": false
   },
   "outputs": [
    {
     "data": {
      "text/plain": [
       "'2017-10-08T06:02:01Z'"
      ]
     },
     "execution_count": 97,
     "metadata": {},
     "output_type": "execute_result"
    }
   ],
   "source": [
    "time_str[0]"
   ]
  },
  {
   "cell_type": "code",
   "execution_count": 141,
   "metadata": {
    "collapsed": false
   },
   "outputs": [
    {
     "data": {
      "text/plain": [
       "[datetime.datetime(2017, 10, 8, 8, 53, 56),\n",
       " datetime.datetime(2017, 10, 8, 8, 54, 33),\n",
       " datetime.datetime(2017, 10, 8, 8, 54, 39),\n",
       " datetime.datetime(2017, 10, 8, 8, 54, 58),\n",
       " datetime.datetime(2017, 10, 8, 8, 55, 20),\n",
       " datetime.datetime(2017, 10, 8, 8, 55, 27),\n",
       " datetime.datetime(2017, 10, 8, 8, 55, 53),\n",
       " datetime.datetime(2017, 10, 8, 8, 55, 53),\n",
       " datetime.datetime(2017, 10, 8, 8, 55, 52),\n",
       " datetime.datetime(2017, 10, 8, 8, 55, 42),\n",
       " datetime.datetime(2017, 10, 8, 8, 55, 51),\n",
       " datetime.datetime(2017, 10, 8, 9, 9, 53),\n",
       " datetime.datetime(2017, 10, 8, 9, 9, 54),\n",
       " datetime.datetime(2017, 10, 8, 9, 9, 58),\n",
       " datetime.datetime(2017, 10, 8, 9, 9, 58),\n",
       " datetime.datetime(2017, 10, 8, 9, 10, 11),\n",
       " datetime.datetime(2017, 10, 8, 9, 10, 6),\n",
       " datetime.datetime(2017, 10, 8, 9, 10, 11),\n",
       " datetime.datetime(2017, 10, 8, 9, 10, 12),\n",
       " datetime.datetime(2017, 10, 8, 9, 12, 8),\n",
       " datetime.datetime(2017, 10, 8, 9, 12, 46),\n",
       " datetime.datetime(2017, 10, 8, 9, 12, 59),\n",
       " datetime.datetime(2017, 10, 8, 9, 13, 3),\n",
       " datetime.datetime(2017, 10, 8, 9, 12, 54),\n",
       " datetime.datetime(2017, 10, 8, 9, 13, 36),\n",
       " datetime.datetime(2017, 10, 8, 9, 14, 12),\n",
       " datetime.datetime(2017, 10, 8, 9, 14, 12),\n",
       " datetime.datetime(2017, 10, 8, 9, 14, 40),\n",
       " datetime.datetime(2017, 10, 8, 9, 14, 37),\n",
       " datetime.datetime(2017, 10, 8, 9, 14, 45),\n",
       " datetime.datetime(2017, 10, 8, 9, 15, 45),\n",
       " datetime.datetime(2017, 10, 8, 9, 15, 57),\n",
       " datetime.datetime(2017, 10, 8, 9, 16, 14),\n",
       " datetime.datetime(2017, 10, 8, 9, 16, 18),\n",
       " datetime.datetime(2017, 10, 8, 9, 16, 39),\n",
       " datetime.datetime(2017, 10, 8, 9, 17, 18),\n",
       " datetime.datetime(2017, 10, 8, 9, 17, 31),\n",
       " datetime.datetime(2017, 10, 8, 9, 17, 44),\n",
       " datetime.datetime(2017, 10, 8, 9, 17, 49),\n",
       " datetime.datetime(2017, 10, 8, 9, 18, 8),\n",
       " datetime.datetime(2017, 10, 8, 9, 18, 50),\n",
       " datetime.datetime(2017, 10, 8, 9, 19, 3),\n",
       " datetime.datetime(2017, 10, 8, 9, 19, 11),\n",
       " datetime.datetime(2017, 10, 8, 9, 19, 17),\n",
       " datetime.datetime(2017, 10, 8, 9, 19, 37),\n",
       " datetime.datetime(2017, 10, 8, 9, 20, 9),\n",
       " datetime.datetime(2017, 10, 8, 9, 20, 15),\n",
       " datetime.datetime(2017, 10, 8, 9, 20, 15),\n",
       " datetime.datetime(2017, 10, 8, 9, 20, 15),\n",
       " datetime.datetime(2017, 10, 8, 9, 20, 14),\n",
       " datetime.datetime(2017, 10, 8, 9, 20, 15),\n",
       " datetime.datetime(2017, 10, 8, 9, 23, 14),\n",
       " datetime.datetime(2017, 10, 8, 9, 23, 26),\n",
       " datetime.datetime(2017, 10, 8, 9, 23, 45),\n",
       " datetime.datetime(2017, 10, 8, 9, 23, 47),\n",
       " datetime.datetime(2017, 10, 8, 9, 23, 58),\n",
       " datetime.datetime(2017, 10, 8, 9, 24, 50),\n",
       " datetime.datetime(2017, 10, 8, 9, 25, 12),\n",
       " datetime.datetime(2017, 10, 8, 9, 25, 17),\n",
       " datetime.datetime(2017, 10, 8, 9, 25, 17),\n",
       " datetime.datetime(2017, 10, 8, 9, 25, 35),\n",
       " datetime.datetime(2017, 10, 8, 9, 25, 51),\n",
       " datetime.datetime(2017, 10, 8, 9, 25, 50),\n",
       " datetime.datetime(2017, 10, 8, 9, 25, 52),\n",
       " datetime.datetime(2017, 10, 8, 9, 25, 52),\n",
       " datetime.datetime(2017, 10, 8, 9, 25, 52),\n",
       " datetime.datetime(2017, 10, 8, 9, 25, 27),\n",
       " datetime.datetime(2017, 10, 8, 9, 28, 15),\n",
       " datetime.datetime(2017, 10, 8, 9, 28, 13),\n",
       " datetime.datetime(2017, 10, 8, 9, 28, 29),\n",
       " datetime.datetime(2017, 10, 8, 9, 28, 38),\n",
       " datetime.datetime(2017, 10, 8, 9, 28, 31),\n",
       " datetime.datetime(2017, 10, 8, 9, 29, 13),\n",
       " datetime.datetime(2017, 10, 8, 9, 29, 39),\n",
       " datetime.datetime(2017, 10, 8, 9, 29, 41),\n",
       " datetime.datetime(2017, 10, 8, 9, 30, 5),\n",
       " datetime.datetime(2017, 10, 8, 9, 30, 26),\n",
       " datetime.datetime(2017, 10, 8, 9, 29, 37),\n",
       " datetime.datetime(2017, 10, 8, 9, 30, 43),\n",
       " datetime.datetime(2017, 10, 8, 9, 31, 13),\n",
       " datetime.datetime(2017, 10, 8, 9, 31, 17),\n",
       " datetime.datetime(2017, 10, 8, 9, 31, 35),\n",
       " datetime.datetime(2017, 10, 8, 9, 31, 48),\n",
       " datetime.datetime(2017, 10, 8, 9, 32, 14),\n",
       " datetime.datetime(2017, 10, 8, 9, 32, 41),\n",
       " datetime.datetime(2017, 10, 8, 9, 32, 37),\n",
       " datetime.datetime(2017, 10, 8, 9, 33, 11),\n",
       " datetime.datetime(2017, 10, 8, 9, 33, 24),\n",
       " datetime.datetime(2017, 10, 8, 9, 33, 38),\n",
       " datetime.datetime(2017, 10, 8, 9, 34, 12),\n",
       " datetime.datetime(2017, 10, 8, 9, 34, 11),\n",
       " datetime.datetime(2017, 10, 8, 9, 34, 15),\n",
       " datetime.datetime(2017, 10, 8, 9, 34, 15),\n",
       " datetime.datetime(2017, 10, 8, 9, 34, 15),\n",
       " datetime.datetime(2017, 10, 8, 9, 35, 21),\n",
       " datetime.datetime(2017, 10, 8, 9, 35, 43),\n",
       " datetime.datetime(2017, 10, 8, 9, 36, 11),\n",
       " datetime.datetime(2017, 10, 8, 9, 36, 16),\n",
       " datetime.datetime(2017, 10, 8, 9, 36, 45),\n",
       " datetime.datetime(2017, 10, 8, 9, 36, 51),\n",
       " datetime.datetime(2017, 10, 8, 9, 37, 13),\n",
       " datetime.datetime(2017, 10, 8, 9, 37, 26),\n",
       " datetime.datetime(2017, 10, 8, 9, 37, 45),\n",
       " datetime.datetime(2017, 10, 8, 9, 37, 47),\n",
       " datetime.datetime(2017, 10, 8, 9, 37, 48),\n",
       " datetime.datetime(2017, 10, 8, 9, 38, 15),\n",
       " datetime.datetime(2017, 10, 8, 9, 38, 44),\n",
       " datetime.datetime(2017, 10, 8, 9, 38, 58),\n",
       " datetime.datetime(2017, 10, 8, 9, 39, 14),\n",
       " datetime.datetime(2017, 10, 8, 9, 39, 19),\n",
       " datetime.datetime(2017, 10, 8, 9, 39, 28),\n",
       " datetime.datetime(2017, 10, 8, 9, 39, 58),\n",
       " datetime.datetime(2017, 10, 8, 9, 40, 18),\n",
       " datetime.datetime(2017, 10, 8, 9, 40, 32),\n",
       " datetime.datetime(2017, 10, 8, 9, 40, 33),\n",
       " datetime.datetime(2017, 10, 8, 9, 40, 33),\n",
       " datetime.datetime(2017, 10, 8, 9, 41, 1),\n",
       " datetime.datetime(2017, 10, 8, 9, 41, 35),\n",
       " datetime.datetime(2017, 10, 8, 9, 41, 45),\n",
       " datetime.datetime(2017, 10, 8, 9, 42, 1),\n",
       " datetime.datetime(2017, 10, 8, 9, 42, 14),\n",
       " datetime.datetime(2017, 10, 8, 9, 42, 14),\n",
       " datetime.datetime(2017, 10, 8, 9, 42, 39),\n",
       " datetime.datetime(2017, 10, 8, 9, 43, 6),\n",
       " datetime.datetime(2017, 10, 8, 9, 43, 20),\n",
       " datetime.datetime(2017, 10, 8, 9, 43, 22),\n",
       " datetime.datetime(2017, 10, 8, 9, 43, 43),\n",
       " datetime.datetime(2017, 10, 8, 9, 43, 49),\n",
       " datetime.datetime(2017, 10, 8, 9, 44, 5),\n",
       " datetime.datetime(2017, 10, 8, 9, 44, 27),\n",
       " datetime.datetime(2017, 10, 8, 9, 44, 51),\n",
       " datetime.datetime(2017, 10, 8, 9, 45, 10),\n",
       " datetime.datetime(2017, 10, 8, 9, 45, 19),\n",
       " datetime.datetime(2017, 10, 8, 9, 45, 36),\n",
       " datetime.datetime(2017, 10, 8, 9, 45, 49),\n",
       " datetime.datetime(2017, 10, 8, 9, 46, 18),\n",
       " datetime.datetime(2017, 10, 8, 9, 46, 31),\n",
       " datetime.datetime(2017, 10, 8, 9, 46, 41),\n",
       " datetime.datetime(2017, 10, 8, 9, 46, 50),\n",
       " datetime.datetime(2017, 10, 8, 9, 47, 7),\n",
       " datetime.datetime(2017, 10, 8, 9, 47, 38),\n",
       " datetime.datetime(2017, 10, 8, 9, 47, 52),\n",
       " datetime.datetime(2017, 10, 8, 9, 48, 5),\n",
       " datetime.datetime(2017, 10, 8, 9, 48, 9),\n",
       " datetime.datetime(2017, 10, 8, 9, 48, 14),\n",
       " datetime.datetime(2017, 10, 8, 9, 48, 28),\n",
       " datetime.datetime(2017, 10, 8, 9, 48, 28),\n",
       " datetime.datetime(2017, 10, 8, 9, 48, 28),\n",
       " datetime.datetime(2017, 10, 8, 9, 49, 41),\n",
       " datetime.datetime(2017, 10, 8, 9, 49, 40),\n",
       " datetime.datetime(2017, 10, 8, 9, 49, 46),\n",
       " datetime.datetime(2017, 10, 8, 9, 50, 9),\n",
       " datetime.datetime(2017, 10, 8, 9, 50, 34),\n",
       " datetime.datetime(2017, 10, 8, 9, 50, 49),\n",
       " datetime.datetime(2017, 10, 8, 9, 51, 6),\n",
       " datetime.datetime(2017, 10, 8, 9, 51, 6),\n",
       " datetime.datetime(2017, 10, 8, 9, 51, 20),\n",
       " datetime.datetime(2017, 10, 8, 9, 51, 38),\n",
       " datetime.datetime(2017, 10, 8, 9, 52, 9),\n",
       " datetime.datetime(2017, 10, 8, 9, 52, 11),\n",
       " datetime.datetime(2017, 10, 8, 9, 52, 36),\n",
       " datetime.datetime(2017, 10, 8, 9, 52, 4),\n",
       " datetime.datetime(2017, 10, 8, 9, 52, 47),\n",
       " datetime.datetime(2017, 10, 8, 9, 53, 4),\n",
       " datetime.datetime(2017, 10, 8, 9, 53, 42),\n",
       " datetime.datetime(2017, 10, 8, 9, 53, 46),\n",
       " datetime.datetime(2017, 10, 8, 9, 54, 5),\n",
       " datetime.datetime(2017, 10, 8, 9, 54, 15),\n",
       " datetime.datetime(2017, 10, 8, 9, 54, 35),\n",
       " datetime.datetime(2017, 10, 8, 9, 55, 7),\n",
       " datetime.datetime(2017, 10, 8, 9, 55, 8),\n",
       " datetime.datetime(2017, 10, 8, 9, 55, 31),\n",
       " datetime.datetime(2017, 10, 8, 9, 55, 32),\n",
       " datetime.datetime(2017, 10, 8, 9, 56, 10),\n",
       " datetime.datetime(2017, 10, 8, 9, 56, 40),\n",
       " datetime.datetime(2017, 10, 8, 9, 56, 41),\n",
       " datetime.datetime(2017, 10, 8, 9, 57, 2),\n",
       " datetime.datetime(2017, 10, 8, 9, 57, 13),\n",
       " datetime.datetime(2017, 10, 8, 9, 57, 43),\n",
       " datetime.datetime(2017, 10, 8, 9, 58, 8),\n",
       " datetime.datetime(2017, 10, 8, 9, 58, 9),\n",
       " datetime.datetime(2017, 10, 8, 9, 58, 28),\n",
       " datetime.datetime(2017, 10, 8, 9, 58, 40),\n",
       " datetime.datetime(2017, 10, 8, 9, 59, 11),\n",
       " datetime.datetime(2017, 10, 8, 9, 59, 31),\n",
       " datetime.datetime(2017, 10, 8, 9, 59, 36),\n",
       " datetime.datetime(2017, 10, 8, 9, 59, 57),\n",
       " datetime.datetime(2017, 10, 8, 10, 0, 13),\n",
       " datetime.datetime(2017, 10, 8, 10, 0, 44),\n",
       " datetime.datetime(2017, 10, 8, 10, 1, 2),\n",
       " datetime.datetime(2017, 10, 8, 10, 0, 50),\n",
       " datetime.datetime(2017, 10, 8, 10, 1, 29),\n",
       " datetime.datetime(2017, 10, 8, 10, 1, 42),\n",
       " datetime.datetime(2017, 10, 8, 10, 2, 18),\n",
       " datetime.datetime(2017, 10, 8, 10, 2, 28),\n",
       " datetime.datetime(2017, 10, 8, 10, 1, 7),\n",
       " datetime.datetime(2017, 10, 8, 10, 2, 57),\n",
       " datetime.datetime(2017, 10, 8, 10, 3, 12),\n",
       " datetime.datetime(2017, 10, 8, 10, 3, 48),\n",
       " datetime.datetime(2017, 10, 8, 10, 3, 56),\n",
       " datetime.datetime(2017, 10, 8, 10, 4, 29),\n",
       " datetime.datetime(2017, 10, 8, 10, 4, 32),\n",
       " datetime.datetime(2017, 10, 8, 10, 5, 15),\n",
       " datetime.datetime(2017, 10, 8, 10, 5, 29),\n",
       " datetime.datetime(2017, 10, 8, 10, 6, 3),\n",
       " datetime.datetime(2017, 10, 8, 10, 6, 4),\n",
       " datetime.datetime(2017, 10, 8, 10, 6, 47),\n",
       " datetime.datetime(2017, 10, 8, 10, 6, 53),\n",
       " datetime.datetime(2017, 10, 8, 10, 7, 30),\n",
       " datetime.datetime(2017, 10, 8, 10, 7, 39),\n",
       " datetime.datetime(2017, 10, 8, 10, 8, 21),\n",
       " datetime.datetime(2017, 10, 8, 10, 8, 26),\n",
       " datetime.datetime(2017, 10, 8, 10, 9, 1),\n",
       " datetime.datetime(2017, 10, 8, 10, 9, 8),\n",
       " datetime.datetime(2017, 10, 8, 10, 9, 52),\n",
       " datetime.datetime(2017, 10, 8, 10, 9, 57),\n",
       " datetime.datetime(2017, 10, 8, 10, 10, 29),\n",
       " datetime.datetime(2017, 10, 8, 10, 10, 40),\n",
       " datetime.datetime(2017, 10, 8, 10, 11, 24),\n",
       " datetime.datetime(2017, 10, 8, 10, 11, 29),\n",
       " datetime.datetime(2017, 10, 8, 10, 11, 56),\n",
       " datetime.datetime(2017, 10, 8, 10, 12, 2),\n",
       " datetime.datetime(2017, 10, 8, 10, 12, 2),\n",
       " datetime.datetime(2017, 10, 8, 10, 12, 58),\n",
       " datetime.datetime(2017, 10, 8, 10, 13, 30),\n",
       " datetime.datetime(2017, 10, 8, 10, 13, 39),\n",
       " datetime.datetime(2017, 10, 8, 10, 14, 15),\n",
       " datetime.datetime(2017, 10, 8, 10, 14, 32),\n",
       " datetime.datetime(2017, 10, 8, 10, 15, 2),\n",
       " datetime.datetime(2017, 10, 8, 10, 15, 11),\n",
       " datetime.datetime(2017, 10, 8, 10, 15, 46),\n",
       " datetime.datetime(2017, 10, 8, 10, 16),\n",
       " datetime.datetime(2017, 10, 8, 10, 16, 32),\n",
       " datetime.datetime(2017, 10, 8, 10, 16, 44),\n",
       " datetime.datetime(2017, 10, 8, 10, 17, 14),\n",
       " datetime.datetime(2017, 10, 8, 10, 17, 26),\n",
       " datetime.datetime(2017, 10, 8, 10, 18, 4),\n",
       " datetime.datetime(2017, 10, 8, 10, 18, 18),\n",
       " datetime.datetime(2017, 10, 8, 10, 18, 45),\n",
       " datetime.datetime(2017, 10, 8, 10, 18, 50),\n",
       " datetime.datetime(2017, 10, 8, 10, 19, 5),\n",
       " datetime.datetime(2017, 10, 8, 10, 19, 5),\n",
       " datetime.datetime(2017, 10, 8, 10, 19, 4),\n",
       " datetime.datetime(2017, 10, 8, 10, 19, 5),\n",
       " datetime.datetime(2017, 10, 8, 10, 21, 5),\n",
       " datetime.datetime(2017, 10, 8, 10, 21, 16),\n",
       " datetime.datetime(2017, 10, 8, 10, 21, 50),\n",
       " datetime.datetime(2017, 10, 8, 10, 21, 58),\n",
       " datetime.datetime(2017, 10, 8, 10, 22, 17),\n",
       " datetime.datetime(2017, 10, 8, 10, 22, 44),\n",
       " datetime.datetime(2017, 10, 8, 10, 23, 24),\n",
       " datetime.datetime(2017, 10, 8, 10, 23, 31),\n",
       " datetime.datetime(2017, 10, 8, 10, 24, 13),\n",
       " datetime.datetime(2017, 10, 8, 10, 24, 14),\n",
       " datetime.datetime(2017, 10, 8, 10, 24, 50),\n",
       " datetime.datetime(2017, 10, 8, 10, 25),\n",
       " datetime.datetime(2017, 10, 8, 10, 25, 40),\n",
       " datetime.datetime(2017, 10, 8, 10, 25, 44),\n",
       " datetime.datetime(2017, 10, 8, 10, 26, 20),\n",
       " datetime.datetime(2017, 10, 8, 10, 26, 30),\n",
       " datetime.datetime(2017, 10, 8, 10, 26, 23),\n",
       " datetime.datetime(2017, 10, 8, 10, 27, 5),\n",
       " datetime.datetime(2017, 10, 8, 10, 27, 11),\n",
       " datetime.datetime(2017, 10, 8, 10, 27, 50),\n",
       " datetime.datetime(2017, 10, 8, 10, 27, 56),\n",
       " datetime.datetime(2017, 10, 8, 10, 28, 41),\n",
       " datetime.datetime(2017, 10, 8, 10, 28, 45),\n",
       " datetime.datetime(2017, 10, 8, 10, 29, 19),\n",
       " datetime.datetime(2017, 10, 8, 10, 29, 27),\n",
       " datetime.datetime(2017, 10, 8, 10, 28, 41),\n",
       " datetime.datetime(2017, 10, 8, 10, 30, 7),\n",
       " datetime.datetime(2017, 10, 8, 10, 30, 15),\n",
       " datetime.datetime(2017, 10, 8, 10, 30, 47),\n",
       " datetime.datetime(2017, 10, 8, 10, 30, 53),\n",
       " datetime.datetime(2017, 10, 8, 10, 31, 1),\n",
       " datetime.datetime(2017, 10, 8, 10, 31, 41),\n",
       " datetime.datetime(2017, 10, 8, 10, 31, 51),\n",
       " datetime.datetime(2017, 10, 8, 10, 32, 23),\n",
       " datetime.datetime(2017, 10, 8, 10, 32, 24),\n",
       " datetime.datetime(2017, 10, 8, 10, 32, 42),\n",
       " datetime.datetime(2017, 10, 8, 10, 33, 8),\n",
       " datetime.datetime(2017, 10, 8, 10, 33, 8),\n",
       " datetime.datetime(2017, 10, 8, 10, 33, 54),\n",
       " datetime.datetime(2017, 10, 8, 10, 33, 53),\n",
       " datetime.datetime(2017, 10, 8, 10, 34, 15),\n",
       " datetime.datetime(2017, 10, 8, 10, 34, 33),\n",
       " datetime.datetime(2017, 10, 8, 10, 34, 35),\n",
       " datetime.datetime(2017, 10, 8, 10, 35),\n",
       " datetime.datetime(2017, 10, 8, 10, 35, 24),\n",
       " datetime.datetime(2017, 10, 8, 10, 35, 47),\n",
       " datetime.datetime(2017, 10, 8, 10, 36, 1),\n",
       " datetime.datetime(2017, 10, 8, 10, 36, 8),\n",
       " datetime.datetime(2017, 10, 8, 10, 36, 42),\n",
       " datetime.datetime(2017, 10, 8, 10, 36, 59),\n",
       " datetime.datetime(2017, 10, 8, 10, 37, 9),\n",
       " datetime.datetime(2017, 10, 8, 10, 37, 31),\n",
       " datetime.datetime(2017, 10, 8, 10, 37, 31)]"
      ]
     },
     "execution_count": 141,
     "metadata": {},
     "output_type": "execute_result"
    }
   ],
   "source": [
    "times"
   ]
  },
  {
   "cell_type": "code",
   "execution_count": 142,
   "metadata": {
    "collapsed": false
   },
   "outputs": [
    {
     "data": {
      "text/plain": [
       "datetime.datetime(2017, 10, 8, 10, 37, 31)"
      ]
     },
     "execution_count": 142,
     "metadata": {},
     "output_type": "execute_result"
    }
   ],
   "source": [
    "max(times)"
   ]
  },
  {
   "cell_type": "code",
   "execution_count": 143,
   "metadata": {
    "collapsed": false
   },
   "outputs": [
    {
     "data": {
      "text/plain": [
       "datetime.datetime(2017, 10, 8, 8, 53, 56)"
      ]
     },
     "execution_count": 143,
     "metadata": {},
     "output_type": "execute_result"
    }
   ],
   "source": [
    "min(times)"
   ]
  },
  {
   "cell_type": "code",
   "execution_count": 144,
   "metadata": {
    "collapsed": false
   },
   "outputs": [],
   "source": [
    "# Time difference of a certain mac address on meraki network\n",
    "t_d = max(times) - min(times)"
   ]
  },
  {
   "cell_type": "code",
   "execution_count": 151,
   "metadata": {
    "collapsed": false
   },
   "outputs": [
    {
     "data": {
      "text/plain": [
       "6215"
      ]
     },
     "execution_count": 151,
     "metadata": {},
     "output_type": "execute_result"
    }
   ],
   "source": [
    "t_d.seconds"
   ]
  }
 ],
 "metadata": {
  "kernelspec": {
   "display_name": "Python 3",
   "language": "python",
   "name": "python3"
  },
  "language_info": {
   "codemirror_mode": {
    "name": "ipython",
    "version": 3
   },
   "file_extension": ".py",
   "mimetype": "text/x-python",
   "name": "python",
   "nbconvert_exporter": "python",
   "pygments_lexer": "ipython3",
   "version": "3.4.5"
  }
 },
 "nbformat": 4,
 "nbformat_minor": 2
}
